{
 "cells": [
  {
   "attachments": {},
   "cell_type": "markdown",
   "metadata": {},
   "source": [
    "# Building the NLP model:\n",
    "\n",
    "Now that we completed our EDA and checked our finindings using statistical tests, we can move on to our main task: Build a NLP model that takes in a video title as an input and predicts the engagement rate of the video."
   ]
  },
  {
   "cell_type": "code",
   "execution_count": 8,
   "metadata": {},
   "outputs": [],
   "source": [
    "import pandas as pd\n",
    "import numpy as np\n",
    "import tensorflow as tf\n",
    "from tensorflow.keras.preprocessing.text import Tokenizer\n",
    "from tensorflow.keras.preprocessing.sequence import pad_sequences\n",
    "from tensorflow.keras.layers import Input, Embedding, LSTM, Dense, concatenate\n",
    "from tensorflow.keras.models import Model\n",
    "from sklearn.feature_extraction.text import TfidfVectorizer\n",
    "from sklearn.preprocessing import StandardScaler\n",
    "from sklearn.model_selection import train_test_split"
   ]
  },
  {
   "attachments": {},
   "cell_type": "markdown",
   "metadata": {},
   "source": [
    "Loading the data:"
   ]
  },
  {
   "cell_type": "code",
   "execution_count": 7,
   "metadata": {},
   "outputs": [
    {
     "data": {
      "text/html": [
       "<div>\n",
       "<style scoped>\n",
       "    .dataframe tbody tr th:only-of-type {\n",
       "        vertical-align: middle;\n",
       "    }\n",
       "\n",
       "    .dataframe tbody tr th {\n",
       "        vertical-align: top;\n",
       "    }\n",
       "\n",
       "    .dataframe thead th {\n",
       "        text-align: right;\n",
       "    }\n",
       "</style>\n",
       "<table border=\"1\" class=\"dataframe\">\n",
       "  <thead>\n",
       "    <tr style=\"text-align: right;\">\n",
       "      <th></th>\n",
       "      <th>title</th>\n",
       "      <th>categoryName</th>\n",
       "      <th>view_count</th>\n",
       "      <th>likes</th>\n",
       "      <th>comment_count</th>\n",
       "      <th>time_diff</th>\n",
       "      <th>day_publish</th>\n",
       "      <th>engagement</th>\n",
       "      <th>any_emoji</th>\n",
       "      <th>title_length</th>\n",
       "      <th>processed_title</th>\n",
       "      <th>description_length</th>\n",
       "      <th>processed_description</th>\n",
       "      <th>processed_tags</th>\n",
       "      <th>total_tags</th>\n",
       "    </tr>\n",
       "  </thead>\n",
       "  <tbody>\n",
       "    <tr>\n",
       "      <th>0</th>\n",
       "      <td>!@#$%$#!! || Dubov vs Carlsen || Airthings Mas...</td>\n",
       "      <td>Entertainment</td>\n",
       "      <td>13.297472</td>\n",
       "      <td>10.121940</td>\n",
       "      <td>7.681099</td>\n",
       "      <td>8 days</td>\n",
       "      <td>evening</td>\n",
       "      <td>1.338829</td>\n",
       "      <td>No</td>\n",
       "      <td>57</td>\n",
       "      <td>dubov vs carlsen airthings masters</td>\n",
       "      <td>3187</td>\n",
       "      <td>follow instagram extra content http_link dubov...</td>\n",
       "      <td>agadmator,chess,best chess channel,best youtub...</td>\n",
       "      <td>9</td>\n",
       "    </tr>\n",
       "    <tr>\n",
       "      <th>1</th>\n",
       "      <td>#1 76ERS at #5 HAWKS | FULL GAME HIGHLIGHTS | ...</td>\n",
       "      <td>Sports</td>\n",
       "      <td>14.288667</td>\n",
       "      <td>9.723224</td>\n",
       "      <td>8.617581</td>\n",
       "      <td>4 days</td>\n",
       "      <td>morning</td>\n",
       "      <td>1.283591</td>\n",
       "      <td>No</td>\n",
       "      <td>59</td>\n",
       "      <td>ers hawks game highlights june</td>\n",
       "      <td>874</td>\n",
       "      <td>ers hawks game highlights june trailing pts se...</td>\n",
       "      <td>Basketball,G League,NBA,game-0042000205</td>\n",
       "      <td>4</td>\n",
       "    </tr>\n",
       "    <tr>\n",
       "      <th>2</th>\n",
       "      <td>#1 BUCKS at #8 HEAT | FULL GAME 4 HIGHLIGHTS |...</td>\n",
       "      <td>Sports</td>\n",
       "      <td>14.636114</td>\n",
       "      <td>10.057152</td>\n",
       "      <td>8.189522</td>\n",
       "      <td>2 days</td>\n",
       "      <td>morning</td>\n",
       "      <td>1.246688</td>\n",
       "      <td>No</td>\n",
       "      <td>61</td>\n",
       "      <td>bucks heat game highlights april</td>\n",
       "      <td>1949</td>\n",
       "      <td>miss moment latest news trending stories highl...</td>\n",
       "      <td>Basketball,G League,NBA,game-0042200104</td>\n",
       "      <td>4</td>\n",
       "    </tr>\n",
       "    <tr>\n",
       "      <th>3</th>\n",
       "      <td>#1 HEAT at #2 CELTICS | FULL GAME HIGHLIGHTS |...</td>\n",
       "      <td>Sports</td>\n",
       "      <td>14.758637</td>\n",
       "      <td>10.155879</td>\n",
       "      <td>8.169903</td>\n",
       "      <td>5 days</td>\n",
       "      <td>morning</td>\n",
       "      <td>1.241699</td>\n",
       "      <td>No</td>\n",
       "      <td>59</td>\n",
       "      <td>heat celtics game highlights</td>\n",
       "      <td>475</td>\n",
       "      <td>stay uptodate news live scores stats nba app h...</td>\n",
       "      <td>Basketball,G League,NBA,game-0042100303</td>\n",
       "      <td>4</td>\n",
       "    </tr>\n",
       "    <tr>\n",
       "      <th>4</th>\n",
       "      <td>#1 HEAT at #2 CELTICS | FULL GAME HIGHLIGHTS |...</td>\n",
       "      <td>Sports</td>\n",
       "      <td>14.901673</td>\n",
       "      <td>10.374584</td>\n",
       "      <td>8.299037</td>\n",
       "      <td>5 days</td>\n",
       "      <td>morning</td>\n",
       "      <td>1.253122</td>\n",
       "      <td>No</td>\n",
       "      <td>59</td>\n",
       "      <td>heat celtics game highlights</td>\n",
       "      <td>443</td>\n",
       "      <td>stay uptodate news live scores stats nba appht...</td>\n",
       "      <td>Basketball,G League,NBA,game-0042100306</td>\n",
       "      <td>4</td>\n",
       "    </tr>\n",
       "  </tbody>\n",
       "</table>\n",
       "</div>"
      ],
      "text/plain": [
       "                                               title   categoryName   \n",
       "0  !@#$%$#!! || Dubov vs Carlsen || Airthings Mas...  Entertainment  \\\n",
       "1  #1 76ERS at #5 HAWKS | FULL GAME HIGHLIGHTS | ...         Sports   \n",
       "2  #1 BUCKS at #8 HEAT | FULL GAME 4 HIGHLIGHTS |...         Sports   \n",
       "3  #1 HEAT at #2 CELTICS | FULL GAME HIGHLIGHTS |...         Sports   \n",
       "4  #1 HEAT at #2 CELTICS | FULL GAME HIGHLIGHTS |...         Sports   \n",
       "\n",
       "   view_count      likes  comment_count time_diff day_publish  engagement   \n",
       "0   13.297472  10.121940       7.681099    8 days     evening    1.338829  \\\n",
       "1   14.288667   9.723224       8.617581    4 days     morning    1.283591   \n",
       "2   14.636114  10.057152       8.189522    2 days     morning    1.246688   \n",
       "3   14.758637  10.155879       8.169903    5 days     morning    1.241699   \n",
       "4   14.901673  10.374584       8.299037    5 days     morning    1.253122   \n",
       "\n",
       "  any_emoji  title_length                     processed_title   \n",
       "0        No            57  dubov vs carlsen airthings masters  \\\n",
       "1        No            59      ers hawks game highlights june   \n",
       "2        No            61    bucks heat game highlights april   \n",
       "3        No            59        heat celtics game highlights   \n",
       "4        No            59        heat celtics game highlights   \n",
       "\n",
       "   description_length                              processed_description   \n",
       "0                3187  follow instagram extra content http_link dubov...  \\\n",
       "1                 874  ers hawks game highlights june trailing pts se...   \n",
       "2                1949  miss moment latest news trending stories highl...   \n",
       "3                 475  stay uptodate news live scores stats nba app h...   \n",
       "4                 443  stay uptodate news live scores stats nba appht...   \n",
       "\n",
       "                                      processed_tags  total_tags  \n",
       "0  agadmator,chess,best chess channel,best youtub...           9  \n",
       "1            Basketball,G League,NBA,game-0042000205           4  \n",
       "2            Basketball,G League,NBA,game-0042200104           4  \n",
       "3            Basketball,G League,NBA,game-0042100303           4  \n",
       "4            Basketball,G League,NBA,game-0042100306           4  "
      ]
     },
     "execution_count": 7,
     "metadata": {},
     "output_type": "execute_result"
    }
   ],
   "source": [
    "youtube_data = pd.read_csv('..\\Data\\processed_youtube.csv')\n",
    "\n",
    "youtube_data.head(5)"
   ]
  },
  {
   "cell_type": "code",
   "execution_count": 22,
   "metadata": {},
   "outputs": [],
   "source": [
    "# Preprocess the data\n",
    "descs = [str(desc) for desc in youtube_data['processed_description']]\n",
    "titles = youtube_data['title'].values\n",
    "tags = youtube_data['processed_tags'].values\n",
    "num_features = ['description_length', 'total_tags']\n",
    "X_num = youtube_data[num_features].values\n",
    "y = youtube_data['engagement'].values"
   ]
  },
  {
   "cell_type": "code",
   "execution_count": 23,
   "metadata": {},
   "outputs": [],
   "source": [
    "# Tokenize and pad the video descriptions\n",
    "max_desc_len = 1350\n",
    "tokenizer = Tokenizer()\n",
    "tokenizer.fit_on_texts(descs)\n",
    "desc_seq = tokenizer.texts_to_sequences(descs)\n",
    "desc_pad = pad_sequences(desc_seq, maxlen=max_desc_len, padding='post')"
   ]
  },
  {
   "cell_type": "code",
   "execution_count": 25,
   "metadata": {},
   "outputs": [],
   "source": [
    "# Vectorize the video titles and tags\n",
    "title_vec = TfidfVectorizer(max_features=5000).fit_transform(youtube_data['title']).toarray()"
   ]
  },
  {
   "cell_type": "code",
   "execution_count": 27,
   "metadata": {},
   "outputs": [],
   "source": [
    "# Convert video tags to TF-IDF vectors\n",
    "tags = youtube_data['processed_tags'].apply(lambda x: x.replace('non-en', '')).apply(lambda x: x if x != '' else np.nan)\n",
    "tags_vec = TfidfVectorizer(max_features=5000).fit_transform(tags.dropna()).toarray()"
   ]
  },
  {
   "cell_type": "code",
   "execution_count": 28,
   "metadata": {},
   "outputs": [],
   "source": [
    "# Scale the numeric features\n",
    "scaler = StandardScaler()\n",
    "X_num_scaled = scaler.fit_transform(X_num)"
   ]
  },
  {
   "cell_type": "code",
   "execution_count": 29,
   "metadata": {},
   "outputs": [],
   "source": [
    "desc_input = Input(shape=(max_desc_len,), name='desc_input')\n",
    "desc_emb = Embedding(input_dim=len(tokenizer.word_index)+1, output_dim=32, input_length=max_desc_len, name='desc_emb')(desc_input)\n",
    "desc_lstm = LSTM(64, name='desc_lstm')(desc_emb)\n",
    "title_input = Input(shape=(5000,), name='title_input')\n",
    "tags_input = Input(shape=(5000,), name='tags_input')\n",
    "num_input = Input(shape=(2,), name='num_input')\n",
    "x = concatenate([desc_lstm, title_input, tags_input, num_input], axis=1)\n",
    "x = Dense(64, activation='relu')(x)\n",
    "output = Dense(1, activation='linear')(x)\n",
    "model = Model(inputs=[desc_input, title_input, tags_input, num_input], outputs=output)\n",
    "model.compile(loss='mse', optimizer='adam')"
   ]
  },
  {
   "cell_type": "code",
   "execution_count": 31,
   "metadata": {},
   "outputs": [],
   "source": [
    "# Split the data into training and testing sets\n",
    "#X_train, X_test, y_train, y_test = train_test_split(X, y, test_size=0.2, random_state=42)"
   ]
  },
  {
   "cell_type": "code",
   "execution_count": 32,
   "metadata": {},
   "outputs": [
    {
     "name": "stdout",
     "output_type": "stream",
     "text": [
      "207/996 [=====>........................] - ETA: 6:25 - loss: 0.1056"
     ]
    }
   ],
   "source": [
    "model.fit({'desc_input': desc_pad, 'title_input': title_vec, 'tags_input': tags_vec, 'num_input': X_num_scaled},\n",
    "          youtube_data['engagement'], epochs=10, batch_size=32)"
   ]
  }
 ],
 "metadata": {
  "kernelspec": {
   "display_name": "youtube",
   "language": "python",
   "name": "python3"
  },
  "language_info": {
   "codemirror_mode": {
    "name": "ipython",
    "version": 3
   },
   "file_extension": ".py",
   "mimetype": "text/x-python",
   "name": "python",
   "nbconvert_exporter": "python",
   "pygments_lexer": "ipython3",
   "version": "3.11.2"
  },
  "orig_nbformat": 4
 },
 "nbformat": 4,
 "nbformat_minor": 2
}
